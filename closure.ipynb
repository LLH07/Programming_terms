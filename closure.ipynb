{
 "cells": [
  {
   "cell_type": "markdown",
   "metadata": {},
   "source": [
    "直接舉例:"
   ]
  },
  {
   "cell_type": "code",
   "execution_count": 11,
   "metadata": {},
   "outputs": [],
   "source": [
    "def outer_func():\n",
    "    message = 'HI'\n",
    "    def inner_func():\n",
    "        print(message)\n",
    "    return inner_func"
   ]
  },
  {
   "cell_type": "code",
   "execution_count": 12,
   "metadata": {},
   "outputs": [
    {
     "name": "stdout",
     "output_type": "stream",
     "text": [
      "<function outer_func.<locals>.inner_func at 0x000001807733B1E0>\n",
      "inner_func\n"
     ]
    }
   ],
   "source": [
    "my_func = outer_func()\n",
    "\n",
    "print(my_func)\n",
    "print(my_func.__name__)"
   ]
  },
  {
   "cell_type": "code",
   "execution_count": 13,
   "metadata": {},
   "outputs": [
    {
     "name": "stdout",
     "output_type": "stream",
     "text": [
      "HI\n",
      "HI\n",
      "HI\n"
     ]
    }
   ],
   "source": [
    "my_func()\n",
    "my_func()\n",
    "my_func()"
   ]
  },
  {
   "cell_type": "markdown",
   "metadata": {},
   "source": [
    "注意到，在第二個 cell，我用 <font color='red'> first class function </font> 的概念，創造 ```my_func``` variable。  \n",
    "在執行第二個 cell 的 ```outer_func``` function 後，```my_func``` 這個 variable 就等於 ```inner_func``` 這個 function。  \n",
    "那為何在第三個 cell，執行```my_func``` 時，仍會印出屬於```outer_func``` 的 variable(```message```)?"
   ]
  },
  {
   "cell_type": "markdown",
   "metadata": {},
   "source": [
    "答案就是 <font color='red'> closure</font> 的概念。  \n",
    "Closure 簡單來說，就是<font color='red'> inner function </font>，她會<font color='green'>記得且有權限取得</font>創造 inner function 的 <font color='green'> local variable (對 inner function 來說是 free variable) </font>。  \n",
    "這個 local scope 在本例就是 ```my_func``` block 內。"
   ]
  },
  {
   "cell_type": "markdown",
   "metadata": {},
   "source": [
    "> \"Therefore, in simple terms: A closure is an inner function that remembers and has access to variables in the local scope in which it was created even after the outer function has finished executing\"."
   ]
  },
  {
   "cell_type": "markdown",
   "metadata": {},
   "source": [
    "在剛剛的例子中，```outer_func``` 沒有參數，現在新增一下:\n",
    "---\n",
    "注意到我們仍沒有給 ```inner_func``` 任何參數:"
   ]
  },
  {
   "cell_type": "code",
   "execution_count": 15,
   "metadata": {},
   "outputs": [],
   "source": [
    "def outer_func(msg):\n",
    "    message = msg\n",
    "    def inner_func(): \n",
    "        print(message)\n",
    "    return inner_func"
   ]
  },
  {
   "cell_type": "code",
   "execution_count": 16,
   "metadata": {},
   "outputs": [
    {
     "ename": "TypeError",
     "evalue": "outer_func() missing 1 required positional argument: 'msg'",
     "output_type": "error",
     "traceback": [
      "\u001b[1;31m---------------------------------------------------------------------------\u001b[0m",
      "\u001b[1;31mTypeError\u001b[0m                                 Traceback (most recent call last)",
      "\u001b[1;32m<ipython-input-16-15c9987b9368>\u001b[0m in \u001b[0;36m<module>\u001b[1;34m\u001b[0m\n\u001b[1;32m----> 1\u001b[1;33m \u001b[0mmy_func\u001b[0m \u001b[1;33m=\u001b[0m \u001b[0mouter_func\u001b[0m\u001b[1;33m(\u001b[0m\u001b[1;33m)\u001b[0m\u001b[1;33m\u001b[0m\u001b[1;33m\u001b[0m\u001b[0m\n\u001b[0m",
      "\u001b[1;31mTypeError\u001b[0m: outer_func() missing 1 required positional argument: 'msg'"
     ]
    }
   ],
   "source": [
    "my_func = outer_func()"
   ]
  },
  {
   "cell_type": "code",
   "execution_count": 17,
   "metadata": {},
   "outputs": [
    {
     "name": "stdout",
     "output_type": "stream",
     "text": [
      "HI\n",
      "HELLO\n"
     ]
    }
   ],
   "source": [
    "my_func = outer_func('HI')\n",
    "my_func2 = outer_func('HELLO')\n",
    "\n",
    "my_func()\n",
    "my_func2()"
   ]
  },
  {
   "cell_type": "markdown",
   "metadata": {},
   "source": [
    "現在在看一個稍微複雜的 code:"
   ]
  },
  {
   "cell_type": "code",
   "execution_count": 18,
   "metadata": {},
   "outputs": [],
   "source": [
    "import logging\n",
    "logging.basicConfig(filename='example.log', level=logging.INFO)\n",
    "\n",
    "\n",
    "def logger(func):\n",
    "    def log_func(*args):\n",
    "        logging.info(\n",
    "            'Running \"{}\" with arguments {}'.format(func.__name__, args))\n",
    "        print(func(*args))\n",
    "    return log_func\n",
    "\n",
    "\n",
    "def add(x, y):\n",
    "    return x+y\n",
    "\n",
    "\n",
    "def sub(x, y):\n",
    "    return x-y"
   ]
  },
  {
   "cell_type": "markdown",
   "metadata": {},
   "source": [
    "我定義```logger``` function，她的參數是```func```。 回傳值是 inner function(```log_func```)。  \n",
    "這個 ```log_func``` 可以使用 <font color='red'> 任意多個 </font> 參數。(這就是 ```*args```的意思)  \n",
    "```logging.info``` 會在本地端新增一個檔案。  \n",
    "最後，我印出 ```func(*args)```(而這對 ```log_func``` 來說是一個 free variable，並且因為 closure 的關係 ```log_func```有權取用)"
   ]
  },
  {
   "cell_type": "code",
   "execution_count": 19,
   "metadata": {},
   "outputs": [
    {
     "name": "stdout",
     "output_type": "stream",
     "text": [
      "6\n",
      "9\n",
      "5\n",
      "10\n"
     ]
    }
   ],
   "source": [
    "add_logger = logger(add)\n",
    "sub_logger = logger(sub)\n",
    "\n",
    "add_logger(3, 3)\n",
    "add_logger(4, 5)\n",
    "\n",
    "sub_logger(10, 5)\n",
    "sub_logger(20, 10)\n"
   ]
  },
  {
   "cell_type": "markdown",
   "metadata": {},
   "source": [
    "1. 定義變數 ```add_logger```，她等於 ```log_func```，並且參數 ```func``` 帶的是 ```add``` function。  \n",
    "同理 for ```sub_logger```。  \n",
    "\n",
    "2. 執行變數 ```add_logger```，因為 ```func``` 可以帶任意多個參數(此例帶 ```3``` 與 ```3```)。  \n",
    "最後的確印出我們想要的。  "
   ]
  },
  {
   "cell_type": "markdown",
   "metadata": {},
   "source": [
    "檢查本地資料夾，發現多個一個 example log 的檔案。  \n",
    "---\n",
    "![pic](data:image/png;base64,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)"
   ]
  },
  {
   "cell_type": "code",
   "execution_count": null,
   "metadata": {},
   "outputs": [],
   "source": []
  }
 ],
 "metadata": {
  "kernelspec": {
   "display_name": "Python 3",
   "language": "python",
   "name": "python3"
  },
  "language_info": {
   "codemirror_mode": {
    "name": "ipython",
    "version": 3
   },
   "file_extension": ".py",
   "mimetype": "text/x-python",
   "name": "python",
   "nbconvert_exporter": "python",
   "pygments_lexer": "ipython3",
   "version": "3.7.3"
  }
 },
 "nbformat": 4,
 "nbformat_minor": 2
}
